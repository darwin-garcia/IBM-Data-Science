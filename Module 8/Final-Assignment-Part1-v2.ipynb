{
 "cells": [
  {
   "cell_type": "markdown",
   "metadata": {},
   "source": [
    "<p style=\"text-align:center\">\n",
    "    <a href=\"https://skills.network\" target=\"_blank\">\n",
    "    <img src=\"https://cf-courses-data.s3.us.cloud-object-storage.appdomain.cloud/assets/logos/SN_web_lightmode.png\" width=\"200\" alt=\"Skills Network Logo\">\n",
    "    </a>\n",
    "</p>\n"
   ]
  },
  {
   "cell_type": "markdown",
   "metadata": {},
   "source": [
    "# **Create visualizations using Matplotib, Seaborn and Folium** \n",
    "\n",
    "Estimated time needed: **40** minutes\n",
    "\n",
    "In this assignment, you will have the opportunity to demonstrate the skills you have acquired in creating visualizations using *Matplotlib, Seaborn, Folium*.\n",
    "<br>\n",
    "<br>\n",
    "<span style=\"color:red\">After each task you will be required to save your plots as an image or screenshot using the filenames specified.  You will be uploading these images during your final project submission so they can be evaluated by your peers. </span>\n"
   ]
  },
  {
   "cell_type": "markdown",
   "metadata": {},
   "source": [
    "# __Table of Contents__\n",
    "\n",
    "<ol>\n",
    "    <li><a href=\"#Objectives\">Objectives</a></li>\n",
    "    <li>\n",
    "        <a href=\"#Setup\">Setup</a>\n",
    "        <ol>\n",
    "            <li><a href=\"#Installing-Required-Libraries\">Installing Required Libraries</a></li>\n",
    "            <li><a href=\"#Importing-Required-Libraries\">Importing Required Libraries</a></li>\n",
    "            </ol>\n",
    "    </li>\n",
    "    <li>\n",
    "        <a href=\"#Scenario\">Scenario</a>\n",
    "        <ol>\n",
    "            <li><a href=\"#Data Description\">Data Description</a></li>\n",
    "        </ol>\n",
    "    </li>\n",
    "    <li><a href=\"#Importing Data\">Importing data</a></li>\n",
    "    <li><a href=\"#Creating Visualizations for Data Analysis\">Creating Visualizations for Data Analysis</a></li>\n",
    "</ol>\n"
   ]
  },
  {
   "cell_type": "markdown",
   "metadata": {},
   "source": [
    "# Objectives\n",
    "\n",
    "After completing this lab you will be able to:\n",
    "\n",
    "- Create informative and visually appealing plots with Matplotlib and Seaborn.\n",
    "- Apply visualization to communicate insights from the data.\n",
    "- Analyze data through using visualizations.\n",
    "- Customize visualizations\n"
   ]
  },
  {
   "cell_type": "markdown",
   "metadata": {},
   "source": [
    "# Setup\n"
   ]
  },
  {
   "cell_type": "markdown",
   "metadata": {},
   "source": [
    "For this lab, we will be using the following libraries:\n",
    "\n",
    "*   [`pandas`](https://pandas.pydata.org/?utm_medium=Exinfluencer&utm_source=Exinfluencer&utm_content=000026UJ&utm_term=10006555&utm_id=NA-SkillsNetwork-Channel-SkillsNetworkCoursesIBMML0187ENSkillsNetwork31430127-2021-01-01) for managing the data.\n",
    "*   [`numpy`](https://numpy.org/?utm_medium=Exinfluencer&utm_source=Exinfluencer&utm_content=000026UJ&utm_term=10006555&utm_id=NA-SkillsNetwork-Channel-SkillsNetworkCoursesIBMML0187ENSkillsNetwork31430127-2021-01-01) for mathematical operations.\n",
    "*   [`matplotlib`](https://matplotlib.org/?utm_medium=Exinfluencer&utm_source=Exinfluencer&utm_content=000026UJ&utm_term=10006555&utm_id=NA-SkillsNetwork-Channel-SkillsNetworkCoursesIBMML0187ENSkillsNetwork31430127-2021-01-01) for plotting.\n",
    "*   [`seaborn`](https://seaborn.pydata.org/?utm_medium=Exinfluencer&utm_source=Exinfluencer&utm_content=000026UJ&utm_term=10006555&utm_id=NA-SkillsNetwork-Channel-SkillsNetworkCoursesIBMML0187ENSkillsNetwork31430127-2021-01-01) for plotting.\n",
    "*  [`Folium`](https://python-visualization.github.io/folium/?utm_medium=Exinfluencer&utm_source=Exinfluencer&utm_content=000026UJ&utm_term=10006555&utm_id=NA-SkillsNetwork-Channel-SkillsNetworkCoursesIBMML0187ENSkillsNetwork31430127-2021-01-01) for plotting.\n"
   ]
  },
  {
   "cell_type": "markdown",
   "metadata": {},
   "source": [
    "### Installing Required Libraries\n",
    "\n",
    "The following required libraries are pre-installed in the Skills Network Labs environment. However, if you run these notebook commands in a different Jupyter environment (e.g. Watson Studio or Ananconda), you will need to install these libraries by removing the `#` sign before `%pip` in the code cell below.\n"
   ]
  },
  {
   "cell_type": "code",
   "execution_count": null,
   "metadata": {},
   "outputs": [],
   "source": [
    "# All Libraries required for this lab are listed below. The libraries pre-installed on Skills Network Labs are commented.\n",
    "# %pip install -qy pandas==1.3.4 numpy==1.21.4 matplotlib==3.5.0 seaborn folium\n",
    "# Note: If your environment doesn't support \"%pip install\", use \"!mamba install\""
   ]
  },
  {
   "cell_type": "code",
   "execution_count": 1,
   "metadata": {},
   "outputs": [
    {
     "name": "stdout",
     "output_type": "stream",
     "text": [
      "Requirement already satisfied: seaborn in c:\\users\\dangmoz\\appdata\\local\\programs\\python\\python313\\lib\\site-packages (0.13.2)\n",
      "Requirement already satisfied: numpy!=1.24.0,>=1.20 in c:\\users\\dangmoz\\appdata\\roaming\\python\\python313\\site-packages (from seaborn) (2.3.1)\n",
      "Requirement already satisfied: pandas>=1.2 in c:\\users\\dangmoz\\appdata\\local\\programs\\python\\python313\\lib\\site-packages (from seaborn) (2.3.0)\n",
      "Requirement already satisfied: matplotlib!=3.6.1,>=3.4 in c:\\users\\dangmoz\\appdata\\local\\programs\\python\\python313\\lib\\site-packages (from seaborn) (3.10.3)\n",
      "Requirement already satisfied: contourpy>=1.0.1 in c:\\users\\dangmoz\\appdata\\local\\programs\\python\\python313\\lib\\site-packages (from matplotlib!=3.6.1,>=3.4->seaborn) (1.3.2)\n",
      "Requirement already satisfied: cycler>=0.10 in c:\\users\\dangmoz\\appdata\\local\\programs\\python\\python313\\lib\\site-packages (from matplotlib!=3.6.1,>=3.4->seaborn) (0.12.1)\n",
      "Requirement already satisfied: fonttools>=4.22.0 in c:\\users\\dangmoz\\appdata\\local\\programs\\python\\python313\\lib\\site-packages (from matplotlib!=3.6.1,>=3.4->seaborn) (4.58.4)\n",
      "Requirement already satisfied: kiwisolver>=1.3.1 in c:\\users\\dangmoz\\appdata\\local\\programs\\python\\python313\\lib\\site-packages (from matplotlib!=3.6.1,>=3.4->seaborn) (1.4.8)\n",
      "Requirement already satisfied: packaging>=20.0 in c:\\users\\dangmoz\\appdata\\local\\programs\\python\\python313\\lib\\site-packages (from matplotlib!=3.6.1,>=3.4->seaborn) (25.0)\n",
      "Requirement already satisfied: pillow>=8 in c:\\users\\dangmoz\\appdata\\local\\programs\\python\\python313\\lib\\site-packages (from matplotlib!=3.6.1,>=3.4->seaborn) (11.2.1)\n",
      "Requirement already satisfied: pyparsing>=2.3.1 in c:\\users\\dangmoz\\appdata\\local\\programs\\python\\python313\\lib\\site-packages (from matplotlib!=3.6.1,>=3.4->seaborn) (3.2.3)\n",
      "Requirement already satisfied: python-dateutil>=2.7 in c:\\users\\dangmoz\\appdata\\local\\programs\\python\\python313\\lib\\site-packages (from matplotlib!=3.6.1,>=3.4->seaborn) (2.9.0.post0)\n",
      "Requirement already satisfied: pytz>=2020.1 in c:\\users\\dangmoz\\appdata\\local\\programs\\python\\python313\\lib\\site-packages (from pandas>=1.2->seaborn) (2025.2)\n",
      "Requirement already satisfied: tzdata>=2022.7 in c:\\users\\dangmoz\\appdata\\local\\programs\\python\\python313\\lib\\site-packages (from pandas>=1.2->seaborn) (2025.2)\n",
      "Requirement already satisfied: six>=1.5 in c:\\users\\dangmoz\\appdata\\local\\programs\\python\\python313\\lib\\site-packages (from python-dateutil>=2.7->matplotlib!=3.6.1,>=3.4->seaborn) (1.17.0)\n",
      "Note: you may need to restart the kernel to use updated packages.\n",
      "Requirement already satisfied: folium in c:\\users\\dangmoz\\appdata\\local\\programs\\python\\python313\\lib\\site-packages (0.20.0)\n",
      "Requirement already satisfied: branca>=0.6.0 in c:\\users\\dangmoz\\appdata\\local\\programs\\python\\python313\\lib\\site-packages (from folium) (0.8.1)\n",
      "Requirement already satisfied: jinja2>=2.9 in c:\\users\\dangmoz\\appdata\\local\\programs\\python\\python313\\lib\\site-packages (from folium) (3.1.6)\n",
      "Requirement already satisfied: numpy in c:\\users\\dangmoz\\appdata\\roaming\\python\\python313\\site-packages (from folium) (2.3.1)\n",
      "Requirement already satisfied: requests in c:\\users\\dangmoz\\appdata\\local\\programs\\python\\python313\\lib\\site-packages (from folium) (2.32.4)\n",
      "Requirement already satisfied: xyzservices in c:\\users\\dangmoz\\appdata\\local\\programs\\python\\python313\\lib\\site-packages (from folium) (2025.4.0)\n",
      "Requirement already satisfied: MarkupSafe>=2.0 in c:\\users\\dangmoz\\appdata\\local\\programs\\python\\python313\\lib\\site-packages (from jinja2>=2.9->folium) (3.0.2)\n",
      "Requirement already satisfied: charset_normalizer<4,>=2 in c:\\users\\dangmoz\\appdata\\local\\programs\\python\\python313\\lib\\site-packages (from requests->folium) (3.4.2)\n",
      "Requirement already satisfied: idna<4,>=2.5 in c:\\users\\dangmoz\\appdata\\local\\programs\\python\\python313\\lib\\site-packages (from requests->folium) (3.10)\n",
      "Requirement already satisfied: urllib3<3,>=1.21.1 in c:\\users\\dangmoz\\appdata\\local\\programs\\python\\python313\\lib\\site-packages (from requests->folium) (2.5.0)\n",
      "Requirement already satisfied: certifi>=2017.4.17 in c:\\users\\dangmoz\\appdata\\local\\programs\\python\\python313\\lib\\site-packages (from requests->folium) (2025.6.15)\n",
      "Note: you may need to restart the kernel to use updated packages.\n"
     ]
    }
   ],
   "source": [
    "%pip install seaborn\n",
    "%pip install folium"
   ]
  },
  {
   "cell_type": "markdown",
   "metadata": {},
   "source": [
    "### Importing Required Libraries\n",
    "\n",
    "_We recommend you import all required libraries in one place (here):_\n"
   ]
  },
  {
   "cell_type": "code",
   "execution_count": 2,
   "metadata": {},
   "outputs": [],
   "source": [
    "import numpy as np\n",
    "import pandas as pd\n",
    "%matplotlib inline\n",
    "import matplotlib as mpl\n",
    "import matplotlib.pyplot as plt\n",
    "import seaborn as sns\n",
    "import folium"
   ]
  },
  {
   "cell_type": "markdown",
   "metadata": {},
   "source": [
    "\n",
    "\n",
    "<details><summary>Click here for a hint</summary>\n",
    "\n",
    "<p>\n",
    "You will require:-\n",
    "<br>Numpy for many scientific computing in Python\n",
    "<br>Pandas for creating and working on dataframe, also for plotting directly on dataframe/series\n",
    "<br>The inline backend to generate the plots within the browser [%matplotlib inline]\n",
    "<br>Matplotlib and its pyplot pacakge for plotting\n",
    "<br>Seaborn for plotting\n",
    "</details>\n",
    "\n",
    "\n"
   ]
  },
  {
   "cell_type": "markdown",
   "metadata": {},
   "source": [
    "\n",
    "<details><summary>Click here for python solution</summary>\n",
    "\n",
    "```python\n",
    "    #Import Primary Modules:\n",
    "    import numpy as np\n",
    "    import pandas as pd\n",
    "    %matplotlib inline\n",
    "    import matplotlib as mpl\n",
    "    import matplotlib.pyplot as plt\n",
    "    import seaborn as sns\n",
    "    import folium\n",
    "```\n",
    "\n",
    "</details>\n"
   ]
  },
  {
   "cell_type": "markdown",
   "metadata": {},
   "source": [
    "---\n"
   ]
  },
  {
   "cell_type": "markdown",
   "metadata": {},
   "source": [
    "# Scenario\n",
    "\n",
    "In this assignment you will be tasked with creating plots which answer questions for analysing \"historical_automobile_sales\" data to understand the historical trends in automobile sales during recession periods.<br>\n",
    "recession period 1 - year 1980 <br>\n",
    "recession period 2 - year 1981 to 1982<br>\n",
    "recession period 3 - year 1991<br>\n",
    "recession period 4 - year 2000 to 2001<br>\n",
    "recession period 5 - year end 2007 to mid 2009<br>\n",
    "recession period 6 - year 2020 -Feb to April (Covid-19 Impact)<br>\n",
    "\n",
    "# Data Description\n",
    "\n",
    "The dataset used for this visualization assignment contains *historical_automobile_sales* data representing automobile sales and related variables during recession and non-recession period. \n",
    "\n",
    "The dataset includes the following variables:\n",
    "<br>1. Date: The date of the observation.\n",
    "<br>2. Recession: A binary variable indicating recession perion; 1 means it was recession, 0 means it was normal.\n",
    "<br>3. Automobile_Sales: The number of vehicles sold during the period.\n",
    "<br>4. GDP: The per capita GDP value in USD.\n",
    "<br>5. Unemployment_Rate: The monthly unemployment rate.\n",
    "<br>6. Consumer_Confidence: A synthetic index representing consumer confidence, which can impact consumer spending and automobile purchases.\n",
    "<br>7. Seasonality_Weight: The weight representing the seasonality effect on automobile sales during the period.\n",
    "<br>8. Price: The average vehicle price during the period.\n",
    "<br>9. Advertising_Expenditure: The advertising expenditure of the company.\n",
    "<br>10.Vehicle_Type: The type of vehicles sold; Supperminicar, Smallfamiliycar,                 Mediumfamilycar, Executivecar, Sports.\n",
    "<br>11.Competition: The measure of competition in the market, such as the number of competitors or market share of major manufacturers.\n",
    "<br>12.Month: Month of the observation extracted from Date..\n",
    "<br>13.Year: Year of the observation extracted from Date.\n",
    "<br>\n",
    "By examining various factors mentioned above from the dataset, you aim to gain insights into how recessions impacted automobile sales for your company.\n"
   ]
  },
  {
   "cell_type": "markdown",
   "metadata": {},
   "source": [
    "---\n"
   ]
  },
  {
   "cell_type": "markdown",
   "metadata": {},
   "source": [
    "# Importing Data\n"
   ]
  },
  {
   "cell_type": "markdown",
   "metadata": {},
   "source": [
    "#### For your convenience, we have already written code to import the data below.\n"
   ]
  },
  {
   "cell_type": "code",
   "execution_count": 6,
   "metadata": {},
   "outputs": [
    {
     "name": "stdout",
     "output_type": "stream",
     "text": [
      "Data downloaded and read into a dataframe!\n"
     ]
    },
    {
     "data": {
      "text/html": [
       "<div>\n",
       "<style scoped>\n",
       "    .dataframe tbody tr th:only-of-type {\n",
       "        vertical-align: middle;\n",
       "    }\n",
       "\n",
       "    .dataframe tbody tr th {\n",
       "        vertical-align: top;\n",
       "    }\n",
       "\n",
       "    .dataframe thead th {\n",
       "        text-align: right;\n",
       "    }\n",
       "</style>\n",
       "<table border=\"1\" class=\"dataframe\">\n",
       "  <thead>\n",
       "    <tr style=\"text-align: right;\">\n",
       "      <th></th>\n",
       "      <th>Date</th>\n",
       "      <th>Year</th>\n",
       "      <th>Month</th>\n",
       "      <th>Recession</th>\n",
       "      <th>Consumer_Confidence</th>\n",
       "      <th>Seasonality_Weight</th>\n",
       "      <th>Price</th>\n",
       "      <th>Advertising_Expenditure</th>\n",
       "      <th>Competition</th>\n",
       "      <th>GDP</th>\n",
       "      <th>Growth_Rate</th>\n",
       "      <th>unemployment_rate</th>\n",
       "      <th>Automobile_Sales</th>\n",
       "      <th>Vehicle_Type</th>\n",
       "      <th>City</th>\n",
       "    </tr>\n",
       "  </thead>\n",
       "  <tbody>\n",
       "    <tr>\n",
       "      <th>0</th>\n",
       "      <td>1/31/1980</td>\n",
       "      <td>1980</td>\n",
       "      <td>Jan</td>\n",
       "      <td>1</td>\n",
       "      <td>108.24</td>\n",
       "      <td>0.50</td>\n",
       "      <td>27483.571</td>\n",
       "      <td>1558</td>\n",
       "      <td>7</td>\n",
       "      <td>60.223</td>\n",
       "      <td>0.010000</td>\n",
       "      <td>5.4</td>\n",
       "      <td>456.0</td>\n",
       "      <td>Supperminicar</td>\n",
       "      <td>Georgia</td>\n",
       "    </tr>\n",
       "    <tr>\n",
       "      <th>1</th>\n",
       "      <td>2/29/1980</td>\n",
       "      <td>1980</td>\n",
       "      <td>Feb</td>\n",
       "      <td>1</td>\n",
       "      <td>98.75</td>\n",
       "      <td>0.75</td>\n",
       "      <td>24308.678</td>\n",
       "      <td>3048</td>\n",
       "      <td>4</td>\n",
       "      <td>45.986</td>\n",
       "      <td>-0.309594</td>\n",
       "      <td>4.8</td>\n",
       "      <td>555.9</td>\n",
       "      <td>Supperminicar</td>\n",
       "      <td>New York</td>\n",
       "    </tr>\n",
       "    <tr>\n",
       "      <th>2</th>\n",
       "      <td>3/31/1980</td>\n",
       "      <td>1980</td>\n",
       "      <td>Mar</td>\n",
       "      <td>1</td>\n",
       "      <td>107.48</td>\n",
       "      <td>0.20</td>\n",
       "      <td>28238.443</td>\n",
       "      <td>3137</td>\n",
       "      <td>3</td>\n",
       "      <td>35.141</td>\n",
       "      <td>-0.308614</td>\n",
       "      <td>3.4</td>\n",
       "      <td>620.0</td>\n",
       "      <td>Mediumfamilycar</td>\n",
       "      <td>New York</td>\n",
       "    </tr>\n",
       "    <tr>\n",
       "      <th>3</th>\n",
       "      <td>4/30/1980</td>\n",
       "      <td>1980</td>\n",
       "      <td>Apr</td>\n",
       "      <td>1</td>\n",
       "      <td>115.01</td>\n",
       "      <td>1.00</td>\n",
       "      <td>32615.149</td>\n",
       "      <td>1653</td>\n",
       "      <td>7</td>\n",
       "      <td>45.673</td>\n",
       "      <td>0.230596</td>\n",
       "      <td>4.2</td>\n",
       "      <td>702.8</td>\n",
       "      <td>Supperminicar</td>\n",
       "      <td>Illinois</td>\n",
       "    </tr>\n",
       "    <tr>\n",
       "      <th>4</th>\n",
       "      <td>5/31/1980</td>\n",
       "      <td>1980</td>\n",
       "      <td>May</td>\n",
       "      <td>1</td>\n",
       "      <td>98.72</td>\n",
       "      <td>0.20</td>\n",
       "      <td>23829.233</td>\n",
       "      <td>1319</td>\n",
       "      <td>4</td>\n",
       "      <td>52.997</td>\n",
       "      <td>0.138197</td>\n",
       "      <td>5.3</td>\n",
       "      <td>770.4</td>\n",
       "      <td>Smallfamiliycar</td>\n",
       "      <td>California</td>\n",
       "    </tr>\n",
       "  </tbody>\n",
       "</table>\n",
       "</div>"
      ],
      "text/plain": [
       "        Date  Year Month  Recession  Consumer_Confidence  Seasonality_Weight  \\\n",
       "0  1/31/1980  1980   Jan          1               108.24                0.50   \n",
       "1  2/29/1980  1980   Feb          1                98.75                0.75   \n",
       "2  3/31/1980  1980   Mar          1               107.48                0.20   \n",
       "3  4/30/1980  1980   Apr          1               115.01                1.00   \n",
       "4  5/31/1980  1980   May          1                98.72                0.20   \n",
       "\n",
       "       Price  Advertising_Expenditure  Competition     GDP  Growth_Rate  \\\n",
       "0  27483.571                     1558            7  60.223     0.010000   \n",
       "1  24308.678                     3048            4  45.986    -0.309594   \n",
       "2  28238.443                     3137            3  35.141    -0.308614   \n",
       "3  32615.149                     1653            7  45.673     0.230596   \n",
       "4  23829.233                     1319            4  52.997     0.138197   \n",
       "\n",
       "   unemployment_rate  Automobile_Sales     Vehicle_Type        City  \n",
       "0                5.4             456.0    Supperminicar     Georgia  \n",
       "1                4.8             555.9    Supperminicar    New York  \n",
       "2                3.4             620.0  Mediumfamilycar    New York  \n",
       "3                4.2             702.8    Supperminicar    Illinois  \n",
       "4                5.3             770.4  Smallfamiliycar  California  "
      ]
     },
     "execution_count": 6,
     "metadata": {},
     "output_type": "execute_result"
    }
   ],
   "source": [
    "import requests\n",
    "import io\n",
    "import pandas as pd\n",
    "\n",
    "# URL of the CSV file\n",
    "URL = \"https://cf-courses-data.s3.us.cloud-object-storage.appdomain.cloud/IBMDeveloperSkillsNetwork-DV0101EN-SkillsNetwork/Data%20Files/historical_automobile_sales.csv\"\n",
    "\n",
    "# Fetch the data from the URL\n",
    "response = requests.get(URL)\n",
    "\n",
    "# Raise an error if the request failed\n",
    "response.raise_for_status()\n",
    "\n",
    "# Convert the response content into a readable format for pandas\n",
    "csv_content = io.StringIO(response.text)\n",
    "\n",
    "# Read the CSV data into a pandas dataframe\n",
    "df = pd.read_csv(csv_content)\n",
    "\n",
    "# Print confirmation\n",
    "print('Data downloaded and read into a dataframe!')\n",
    "\n",
    "# Optional: Show the first few rows of the dataframe\n",
    "df.head()\n"
   ]
  },
  {
   "cell_type": "code",
   "execution_count": 7,
   "metadata": {},
   "outputs": [
    {
     "data": {
      "text/html": [
       "<div>\n",
       "<style scoped>\n",
       "    .dataframe tbody tr th:only-of-type {\n",
       "        vertical-align: middle;\n",
       "    }\n",
       "\n",
       "    .dataframe tbody tr th {\n",
       "        vertical-align: top;\n",
       "    }\n",
       "\n",
       "    .dataframe thead th {\n",
       "        text-align: right;\n",
       "    }\n",
       "</style>\n",
       "<table border=\"1\" class=\"dataframe\">\n",
       "  <thead>\n",
       "    <tr style=\"text-align: right;\">\n",
       "      <th></th>\n",
       "      <th>Year</th>\n",
       "      <th>Recession</th>\n",
       "      <th>Consumer_Confidence</th>\n",
       "      <th>Seasonality_Weight</th>\n",
       "      <th>Price</th>\n",
       "      <th>Advertising_Expenditure</th>\n",
       "      <th>Competition</th>\n",
       "      <th>GDP</th>\n",
       "      <th>Growth_Rate</th>\n",
       "      <th>unemployment_rate</th>\n",
       "      <th>Automobile_Sales</th>\n",
       "    </tr>\n",
       "  </thead>\n",
       "  <tbody>\n",
       "    <tr>\n",
       "      <th>count</th>\n",
       "      <td>528.000000</td>\n",
       "      <td>528.000000</td>\n",
       "      <td>528.000000</td>\n",
       "      <td>528.000000</td>\n",
       "      <td>528.000000</td>\n",
       "      <td>528.000000</td>\n",
       "      <td>528.000000</td>\n",
       "      <td>528.000000</td>\n",
       "      <td>528.000000</td>\n",
       "      <td>528.000000</td>\n",
       "      <td>528.000000</td>\n",
       "    </tr>\n",
       "    <tr>\n",
       "      <th>mean</th>\n",
       "      <td>2001.500000</td>\n",
       "      <td>0.214015</td>\n",
       "      <td>101.140170</td>\n",
       "      <td>0.575795</td>\n",
       "      <td>24964.991956</td>\n",
       "      <td>3067.456439</td>\n",
       "      <td>6.064394</td>\n",
       "      <td>40.073903</td>\n",
       "      <td>-0.242001</td>\n",
       "      <td>2.453977</td>\n",
       "      <td>2352.718068</td>\n",
       "    </tr>\n",
       "    <tr>\n",
       "      <th>std</th>\n",
       "      <td>12.710467</td>\n",
       "      <td>0.410526</td>\n",
       "      <td>10.601154</td>\n",
       "      <td>0.454477</td>\n",
       "      <td>4888.073433</td>\n",
       "      <td>1139.564637</td>\n",
       "      <td>1.968350</td>\n",
       "      <td>16.249714</td>\n",
       "      <td>0.861268</td>\n",
       "      <td>1.119019</td>\n",
       "      <td>1645.321284</td>\n",
       "    </tr>\n",
       "    <tr>\n",
       "      <th>min</th>\n",
       "      <td>1980.000000</td>\n",
       "      <td>0.000000</td>\n",
       "      <td>73.900000</td>\n",
       "      <td>0.000000</td>\n",
       "      <td>8793.663000</td>\n",
       "      <td>1009.000000</td>\n",
       "      <td>3.000000</td>\n",
       "      <td>12.508000</td>\n",
       "      <td>-4.227601</td>\n",
       "      <td>1.000000</td>\n",
       "      <td>102.000000</td>\n",
       "    </tr>\n",
       "    <tr>\n",
       "      <th>25%</th>\n",
       "      <td>1990.750000</td>\n",
       "      <td>0.000000</td>\n",
       "      <td>94.035000</td>\n",
       "      <td>0.250000</td>\n",
       "      <td>21453.300500</td>\n",
       "      <td>2083.500000</td>\n",
       "      <td>4.000000</td>\n",
       "      <td>27.237500</td>\n",
       "      <td>-0.574049</td>\n",
       "      <td>1.600000</td>\n",
       "      <td>793.950000</td>\n",
       "    </tr>\n",
       "    <tr>\n",
       "      <th>50%</th>\n",
       "      <td>2001.500000</td>\n",
       "      <td>0.000000</td>\n",
       "      <td>100.740000</td>\n",
       "      <td>0.500000</td>\n",
       "      <td>25038.691500</td>\n",
       "      <td>3072.000000</td>\n",
       "      <td>6.000000</td>\n",
       "      <td>39.214500</td>\n",
       "      <td>-0.013162</td>\n",
       "      <td>2.300000</td>\n",
       "      <td>2182.600000</td>\n",
       "    </tr>\n",
       "    <tr>\n",
       "      <th>75%</th>\n",
       "      <td>2012.250000</td>\n",
       "      <td>0.000000</td>\n",
       "      <td>108.240000</td>\n",
       "      <td>0.750000</td>\n",
       "      <td>28131.684750</td>\n",
       "      <td>4067.250000</td>\n",
       "      <td>8.000000</td>\n",
       "      <td>53.506500</td>\n",
       "      <td>0.388932</td>\n",
       "      <td>2.900000</td>\n",
       "      <td>3614.800000</td>\n",
       "    </tr>\n",
       "    <tr>\n",
       "      <th>max</th>\n",
       "      <td>2023.000000</td>\n",
       "      <td>1.000000</td>\n",
       "      <td>131.670000</td>\n",
       "      <td>1.500000</td>\n",
       "      <td>44263.657000</td>\n",
       "      <td>4983.000000</td>\n",
       "      <td>9.000000</td>\n",
       "      <td>70.374000</td>\n",
       "      <td>0.815074</td>\n",
       "      <td>6.000000</td>\n",
       "      <td>21147.000000</td>\n",
       "    </tr>\n",
       "  </tbody>\n",
       "</table>\n",
       "</div>"
      ],
      "text/plain": [
       "              Year   Recession  Consumer_Confidence  Seasonality_Weight  \\\n",
       "count   528.000000  528.000000           528.000000          528.000000   \n",
       "mean   2001.500000    0.214015           101.140170            0.575795   \n",
       "std      12.710467    0.410526            10.601154            0.454477   \n",
       "min    1980.000000    0.000000            73.900000            0.000000   \n",
       "25%    1990.750000    0.000000            94.035000            0.250000   \n",
       "50%    2001.500000    0.000000           100.740000            0.500000   \n",
       "75%    2012.250000    0.000000           108.240000            0.750000   \n",
       "max    2023.000000    1.000000           131.670000            1.500000   \n",
       "\n",
       "              Price  Advertising_Expenditure  Competition         GDP  \\\n",
       "count    528.000000               528.000000   528.000000  528.000000   \n",
       "mean   24964.991956              3067.456439     6.064394   40.073903   \n",
       "std     4888.073433              1139.564637     1.968350   16.249714   \n",
       "min     8793.663000              1009.000000     3.000000   12.508000   \n",
       "25%    21453.300500              2083.500000     4.000000   27.237500   \n",
       "50%    25038.691500              3072.000000     6.000000   39.214500   \n",
       "75%    28131.684750              4067.250000     8.000000   53.506500   \n",
       "max    44263.657000              4983.000000     9.000000   70.374000   \n",
       "\n",
       "       Growth_Rate  unemployment_rate  Automobile_Sales  \n",
       "count   528.000000         528.000000        528.000000  \n",
       "mean     -0.242001           2.453977       2352.718068  \n",
       "std       0.861268           1.119019       1645.321284  \n",
       "min      -4.227601           1.000000        102.000000  \n",
       "25%      -0.574049           1.600000        793.950000  \n",
       "50%      -0.013162           2.300000       2182.600000  \n",
       "75%       0.388932           2.900000       3614.800000  \n",
       "max       0.815074           6.000000      21147.000000  "
      ]
     },
     "execution_count": 7,
     "metadata": {},
     "output_type": "execute_result"
    }
   ],
   "source": [
    "df.describe()"
   ]
  },
  {
   "cell_type": "code",
   "execution_count": 10,
   "metadata": {},
   "outputs": [
    {
     "data": {
      "text/plain": [
       "Index(['Date', 'Year', 'Month', 'Recession', 'Consumer_Confidence',\n",
       "       'Seasonality_Weight', 'Price', 'Advertising_Expenditure', 'Competition',\n",
       "       'GDP', 'Growth_Rate', 'unemployment_rate', 'Automobile_Sales',\n",
       "       'Vehicle_Type', 'City'],\n",
       "      dtype='object')"
      ]
     },
     "execution_count": 10,
     "metadata": {},
     "output_type": "execute_result"
    }
   ],
   "source": [
    "df.columns"
   ]
  },
  {
   "cell_type": "markdown",
   "metadata": {},
   "source": [
    "---\n"
   ]
  },
  {
   "cell_type": "markdown",
   "metadata": {},
   "source": [
    "# Creating Visualizations for Data Analysis\n"
   ]
  },
  {
   "cell_type": "markdown",
   "metadata": {},
   "source": [
    "### TASK 1.1: Develop a *Line chart* using the functionality of pandas to show how automobile sales fluctuate from year to year\n"
   ]
  },
  {
   "cell_type": "markdown",
   "metadata": {},
   "source": [
    "<details><summary>Click here for a hint</summary>\n",
    "\n",
    "<p>\n",
    "You will require:-\n",
    "<br>to group the year and calculate the average on the 'Automobile Sales', as the data has years and months column\n",
    "<br>make use of .plot() with kind = 'line'\n",
    "<br>donot forget to include labels and title\n",
    "</details>\n"
   ]
  },
  {
   "cell_type": "code",
   "execution_count": 13,
   "metadata": {},
   "outputs": [
    {
     "data": {
      "text/plain": [
       "<Axes: xlabel='Year'>"
      ]
     },
     "execution_count": 13,
     "metadata": {},
     "output_type": "execute_result"
    },
    {
     "data": {
      "image/png": "[encoded data removed]",
      "text/plain": [
       "<Figure size 1000x600 with 1 Axes>"
      ]
     },
     "metadata": {},
     "output_type": "display_data"
    }
   ],
   "source": [
    "df_new = df.groupby(['Year'])['Automobile_Sales'].mean()\n",
    "df_new.plot(kind='line', x='Year', y='Automobile_Sales', figsize=(10, 6), color='crimson')"
   ]
  },
  {
   "cell_type": "markdown",
   "metadata": {},
   "source": [
    "<details><summary>Click here for a solution template</summary>\n",
    "\n",
    "```python\n",
    "    #create data for plotting\n",
    "    df_line = df.groupby(df['Year'])['Automobile_Sales'].mean()\n",
    "    #create figure\n",
    "    plt.figure(figsize=(10, 6))\n",
    "    df_line.plot(kind = 'line')\n",
    "    plt.xlabel('........')\n",
    "    plt.ylabel('.........')\n",
    "    plt.title('......................')\n",
    "    plt.show()\n",
    "```\n",
    "</details>\n"
   ]
  },
  {
   "cell_type": "markdown",
   "metadata": {},
   "source": [
    "### Include the following on the plot\n",
    "ticks on x- axis with all the years, to identify the years of recession \n",
    "<br>annotation for at least two years of recession\n",
    "<br>Title as Automobile Sales during Recession\n",
    "<br> \n"
   ]
  },
  {
   "cell_type": "markdown",
   "metadata": {},
   "source": [
    "<details><summary>Click here for a hint</summary>\n",
    "    <p>\n",
    "    You can create the list for the range 1980 till 2023 and pass that list to the plt.xticks function or you can directly pass the range to the function.\n",
    "    You might need to rotate the ticks to an angle so that they fit in well on the axis\n",
    "    You can include annotation with plt.text(x, y, 'text to display') \n",
    "    </p>\n",
    "</details>\n"
   ]
  },
  {
   "cell_type": "code",
   "execution_count": 47,
   "metadata": {},
   "outputs": [
    {
     "data": {
      "image/png": "[encoded data removed]",
      "text/plain": [
       "<Figure size 1200x800 with 1 Axes>"
      ]
     },
     "metadata": {},
     "output_type": "display_data"
    }
   ],
   "source": [
    "\n",
    "plt.figure(figsize=(12,8))\n",
    "df_new.plot(kind='line')\n",
    "\n",
    "plt.xticks(list(range(1980,2024)), rotation=75)\n",
    "plt.ylabel(\"Unit Solds\")\n",
    "plt.xlabel(\"Years\")\n",
    "plt.title(\"Automobile Sales during Recession\")\n",
    "plt.text(1982,650,\"1981-82 Recession\")\n",
    "plt.text(1991,650,\"1990 Recession\")\n",
    "plt.text(2001,650,\"2000 Recession\")\n",
    "plt.text(2008,650,\"2008 Recession\")\n",
    "plt.show()"
   ]
  },
  {
   "cell_type": "markdown",
   "metadata": {},
   "source": [
    "<details>\n",
    "    <summary>Click here for Solution template</summary>\n",
    "\n",
    "```python\n",
    "    plt.figure(figsize=(10, 6))\n",
    "    df_line = ...............\n",
    "    df_line.plot(kind = 'line')\n",
    "    plt.xticks(list(range(1980,2024)), rotation = 75)\n",
    "    plt.xlabel('..............')\n",
    "    plt.ylabel('............')\n",
    "    plt.title('...................')\n",
    "    plt.text(1982, 650, '1981-82 Recession')\n",
    "    plt.text(......, ..., '..............')\n",
    "    plt.legend()\n",
    "    plt.show()\n",
    "```\n",
    "\n",
    "</details>\n"
   ]
  },
  {
   "cell_type": "markdown",
   "metadata": {},
   "source": [
    "<span style=\"color:red\">\n",
    "Save this plot as \"Line_Plot_1.png\"</span><br>\n",
    "*Hint: You can right lick on the plot and then click on \"Save image as\" option to save it on your local machine*\n"
   ]
  },
  {
   "cell_type": "markdown",
   "metadata": {},
   "source": [
    "---\n"
   ]
  },
  {
   "cell_type": "markdown",
   "metadata": {},
   "source": [
    "\n",
    "####  TASK 1.2: Plot different lines for categories of vehicle type and analyse the trend to answer the question Is there a noticeable difference in sales trends between different vehicle types during recession periods?\n"
   ]
  },
  {
   "cell_type": "markdown",
   "metadata": {},
   "source": [
    "<details><summary>Click here for a hint</summary>\n",
    "\n",
    "<p>\n",
    "    You will require:-\n",
    "    <br>create a separate dataframe where the column recession has a value of '1'\n",
    "    <br>to group the year, vehicle_type and calculate the average on the 'Automobile Sales'\n",
    "    <br>one way is to -\n",
    "    <br>use as_index as false else you will endup with multiple-indexed datafame\n",
    "    <br>later set year as index and groupby vehicle over Sales and plot\n",
    "    <br>make use of .plot() with kind = 'line'\n",
    "    <br>do not forget to include labels and title\n",
    "</p>\n",
    "</details>\n"
   ]
  },
  {
   "cell_type": "code",
   "execution_count": 48,
   "metadata": {},
   "outputs": [
    {
     "data": {
      "text/html": [
       "<div>\n",
       "<style scoped>\n",
       "    .dataframe tbody tr th:only-of-type {\n",
       "        vertical-align: middle;\n",
       "    }\n",
       "\n",
       "    .dataframe tbody tr th {\n",
       "        vertical-align: top;\n",
       "    }\n",
       "\n",
       "    .dataframe thead th {\n",
       "        text-align: right;\n",
       "    }\n",
       "</style>\n",
       "<table border=\"1\" class=\"dataframe\">\n",
       "  <thead>\n",
       "    <tr style=\"text-align: right;\">\n",
       "      <th></th>\n",
       "      <th>Date</th>\n",
       "      <th>Year</th>\n",
       "      <th>Month</th>\n",
       "      <th>Recession</th>\n",
       "      <th>Consumer_Confidence</th>\n",
       "      <th>Seasonality_Weight</th>\n",
       "      <th>Price</th>\n",
       "      <th>Advertising_Expenditure</th>\n",
       "      <th>Competition</th>\n",
       "      <th>GDP</th>\n",
       "      <th>Growth_Rate</th>\n",
       "      <th>unemployment_rate</th>\n",
       "      <th>Automobile_Sales</th>\n",
       "      <th>Vehicle_Type</th>\n",
       "      <th>City</th>\n",
       "    </tr>\n",
       "  </thead>\n",
       "  <tbody>\n",
       "    <tr>\n",
       "      <th>34</th>\n",
       "      <td>11/30/1982</td>\n",
       "      <td>1982</td>\n",
       "      <td>Nov</td>\n",
       "      <td>1</td>\n",
       "      <td>96.90</td>\n",
       "      <td>0.07</td>\n",
       "      <td>29112.725</td>\n",
       "      <td>2994</td>\n",
       "      <td>7</td>\n",
       "      <td>50.246</td>\n",
       "      <td>0.285396</td>\n",
       "      <td>5.4</td>\n",
       "      <td>102.0</td>\n",
       "      <td>Sports</td>\n",
       "      <td>Georgia</td>\n",
       "    </tr>\n",
       "    <tr>\n",
       "      <th>67</th>\n",
       "      <td>8/31/2000</td>\n",
       "      <td>2000</td>\n",
       "      <td>Aug</td>\n",
       "      <td>1</td>\n",
       "      <td>99.76</td>\n",
       "      <td>0.25</td>\n",
       "      <td>21733.354</td>\n",
       "      <td>1116</td>\n",
       "      <td>7</td>\n",
       "      <td>60.404</td>\n",
       "      <td>0.305543</td>\n",
       "      <td>2.9</td>\n",
       "      <td>690.0</td>\n",
       "      <td>Mediumfamilycar</td>\n",
       "      <td>New York</td>\n",
       "    </tr>\n",
       "    <tr>\n",
       "      <th>39</th>\n",
       "      <td>4/30/1990</td>\n",
       "      <td>1990</td>\n",
       "      <td>Apr</td>\n",
       "      <td>1</td>\n",
       "      <td>100.36</td>\n",
       "      <td>1.00</td>\n",
       "      <td>17990.745</td>\n",
       "      <td>1922</td>\n",
       "      <td>5</td>\n",
       "      <td>51.317</td>\n",
       "      <td>0.588207</td>\n",
       "      <td>2.8</td>\n",
       "      <td>714.8</td>\n",
       "      <td>Mediumfamilycar</td>\n",
       "      <td>New York</td>\n",
       "    </tr>\n",
       "    <tr>\n",
       "      <th>86</th>\n",
       "      <td>3/31/2002</td>\n",
       "      <td>2002</td>\n",
       "      <td>Mar</td>\n",
       "      <td>1</td>\n",
       "      <td>86.55</td>\n",
       "      <td>0.20</td>\n",
       "      <td>33162.057</td>\n",
       "      <td>1954</td>\n",
       "      <td>4</td>\n",
       "      <td>42.000</td>\n",
       "      <td>-0.337619</td>\n",
       "      <td>5.6</td>\n",
       "      <td>714.5</td>\n",
       "      <td>Smallfamiliycar</td>\n",
       "      <td>New York</td>\n",
       "    </tr>\n",
       "    <tr>\n",
       "      <th>71</th>\n",
       "      <td>12/31/2000</td>\n",
       "      <td>2000</td>\n",
       "      <td>Dec</td>\n",
       "      <td>1</td>\n",
       "      <td>115.67</td>\n",
       "      <td>0.25</td>\n",
       "      <td>29589.310</td>\n",
       "      <td>1574</td>\n",
       "      <td>3</td>\n",
       "      <td>50.310</td>\n",
       "      <td>0.458398</td>\n",
       "      <td>3.0</td>\n",
       "      <td>706.6</td>\n",
       "      <td>Mediumfamilycar</td>\n",
       "      <td>Georgia</td>\n",
       "    </tr>\n",
       "  </tbody>\n",
       "</table>\n",
       "</div>"
      ],
      "text/plain": [
       "          Date  Year Month  Recession  Consumer_Confidence  \\\n",
       "34  11/30/1982  1982   Nov          1                96.90   \n",
       "67   8/31/2000  2000   Aug          1                99.76   \n",
       "39   4/30/1990  1990   Apr          1               100.36   \n",
       "86   3/31/2002  2002   Mar          1                86.55   \n",
       "71  12/31/2000  2000   Dec          1               115.67   \n",
       "\n",
       "    Seasonality_Weight      Price  Advertising_Expenditure  Competition  \\\n",
       "34                0.07  29112.725                     2994            7   \n",
       "67                0.25  21733.354                     1116            7   \n",
       "39                1.00  17990.745                     1922            5   \n",
       "86                0.20  33162.057                     1954            4   \n",
       "71                0.25  29589.310                     1574            3   \n",
       "\n",
       "       GDP  Growth_Rate  unemployment_rate  Automobile_Sales     Vehicle_Type  \\\n",
       "34  50.246     0.285396                5.4             102.0           Sports   \n",
       "67  60.404     0.305543                2.9             690.0  Mediumfamilycar   \n",
       "39  51.317     0.588207                2.8             714.8  Mediumfamilycar   \n",
       "86  42.000    -0.337619                5.6             714.5  Smallfamiliycar   \n",
       "71  50.310     0.458398                3.0             706.6  Mediumfamilycar   \n",
       "\n",
       "        City  \n",
       "34   Georgia  \n",
       "67  New York  \n",
       "39  New York  \n",
       "86  New York  \n",
       "71   Georgia  "
      ]
     },
     "execution_count": 48,
     "metadata": {},
     "output_type": "execute_result"
    }
   ],
   "source": [
    "df.sort_values(by='Recession', ascending = False, axis=0, inplace=True)\n",
    "new_df2 = df.head()\n",
    "new_df2"
   ]
  },
  {
   "cell_type": "code",
   "execution_count": 50,
   "metadata": {},
   "outputs": [
    {
     "data": {
      "text/plain": [
       "Year  Recession\n",
       "1980  1             678.950000\n",
       "1981  1             633.408333\n",
       "1982  1             631.150000\n",
       "1983  0            3098.472727\n",
       "      1             589.000000\n",
       "1984  0            2972.250000\n",
       "1985  0            3176.133333\n",
       "1986  0            2341.133333\n",
       "1987  0            2288.166667\n",
       "1988  0            3074.500000\n",
       "1989  0            3247.608333\n",
       "1990  0            3868.500000\n",
       "      1             648.981818\n",
       "1991  1             655.891667\n",
       "1992  0            1971.800000\n",
       "      1             675.400000\n",
       "1993  0            2023.250000\n",
       "1994  0            2554.825000\n",
       "1995  0            4300.250000\n",
       "1996  0            2295.208333\n",
       "1997  0            2790.241667\n",
       "1998  0            2994.891667\n",
       "1999  0            2562.683333\n",
       "2000  0            3324.666667\n",
       "      1             607.500000\n",
       "2001  1             692.133333\n",
       "2002  0            2336.750000\n",
       "      1             676.150000\n",
       "2003  0            2628.991667\n",
       "2004  0            3148.883333\n",
       "2005  0            3076.566667\n",
       "2006  0            2557.650000\n",
       "2007  0            2727.166667\n",
       "2008  0            3123.766667\n",
       "      1             678.144444\n",
       "2009  1             631.691667\n",
       "2010  0            2308.600000\n",
       "2011  0            3326.300000\n",
       "2012  0            2782.216667\n",
       "2013  0            2480.583333\n",
       "2014  0            3362.908333\n",
       "2015  0            3352.233333\n",
       "2016  0            2805.803333\n",
       "2017  0            2525.816667\n",
       "2018  0            3180.608333\n",
       "2019  0            2793.733333\n",
       "2020  0            3260.962500\n",
       "      1             543.575000\n",
       "2021  0            3116.041667\n",
       "2022  0            2044.141667\n",
       "2023  0            2587.933333\n",
       "Name: Automobile_Sales, dtype: float64"
      ]
     },
     "execution_count": 50,
     "metadata": {},
     "output_type": "execute_result"
    }
   ],
   "source": [
    "new_df2 = df.groupby(['Year','Recession'])['Automobile_Sales'].mean()\n",
    "new_df2"
   ]
  },
  {
   "cell_type": "markdown",
   "metadata": {},
   "source": [
    "<details>\n",
    "    <summary>Click here for Solution template</summary>\n",
    "\n",
    "```python\n",
    "    df_rec = df[df['Recession']==1]\n",
    "    df_Mline = df_rec.groupby(['Year','Vehicle_Type'], as_index=False)['Automobile_Sales'].mean()\n",
    "    df_Mline.set_index('Year', inplace=True)\n",
    "    df_Mline = df_Mline.groupby(['Vehicle_Type'])['Automobile_Sales']\n",
    "    df_Mline.plot(kind='line')\n",
    "    plt.xlabel('..............')\n",
    "    plt.ylabel('............')\n",
    "    plt.title('Sales Trend Vehicle-wise during Recession')\n",
    "    plt.legend()\n",
    "    plt.show()\n",
    "\n",
    "```\n",
    "</details>\n"
   ]
  },
  {
   "cell_type": "markdown",
   "metadata": {},
   "source": [
    "#### From the above plot, what insights have you gained on the sales of various vehicle types?<br> Type in your answer below:\n"
   ]
  },
  {
   "cell_type": "markdown",
   "metadata": {},
   "source": []
  },
  {
   "cell_type": "markdown",
   "metadata": {},
   "source": [
    "<details>\n",
    "    <summary>Inference</summary>\n",
    "<p>\n",
    "Inference:\n",
    "From this plot, we can understand that during recession period, the sales for 'Sports type vehicles' declined because of the high cost of the vehicle.<br>while sales of the superminicar and smallfamilycar increased.<br><br>\n",
    "    </p>\n",
    "    </details>\n"
   ]
  },
  {
   "cell_type": "markdown",
   "metadata": {},
   "source": [
    "<span style=\"color:red\">\n",
    "Save this plot as \"Line_Plot_2.png\"</span><br>\n",
    "*Hint: You can right lick on the plot and then click on \"Save image as\" option to save it on your local machine*\n"
   ]
  },
  {
   "cell_type": "markdown",
   "metadata": {},
   "source": [
    "----\n"
   ]
  },
  {
   "cell_type": "markdown",
   "metadata": {},
   "source": [
    "### TASK 1.3: Use the functionality of **Seaborn Library** to create a visualization to compare the sales trend per vehicle type for a recession period with a non-recession period.\n"
   ]
  },
  {
   "cell_type": "markdown",
   "metadata": {},
   "source": [
    "<details><summary>Click here for a hint</summary>\n",
    "\n",
    "<p>\n",
    "     To visualize the average number of vehicles sold during recession and non-recession periods, you can use a bar chart\n",
    "        <br> You will need to group recession average Automobile_Sales and then plot it<br>\n",
    "    Make use of sns.barplot(x=x,y=y, data = df)</p>\n",
    "</details>\n"
   ]
  },
  {
   "cell_type": "code",
   "execution_count": null,
   "metadata": {},
   "outputs": [],
   "source": []
  },
  {
   "cell_type": "markdown",
   "metadata": {},
   "source": [
    "<details>\n",
    "    <summary>Click here for Solution template</summary>\n",
    "\n",
    "```python\n",
    "    new_df = df.groupby('Recession')['Automobile_Sales'].mean().reset_index()\n",
    "\n",
    "    # Create the bar chart using seaborn\n",
    "    plt.figure(figsize=(.........., ............)\n",
    "    sns.barplot(x='Recession', y='Automobile_Sales', hue='Recession',  data=new_df)\n",
    "    plt.xlabel('............')\n",
    "    plt.ylabel('...............')\n",
    "    plt.title('Average Automobile Sales during Recession and Non-Recession')\n",
    "    plt.xticks(ticks=[0, 1], labels=['Non-Recession', 'Recession'])\n",
    "    plt.show()\n",
    "```\n",
    "\n",
    "</details>\n"
   ]
  },
  {
   "cell_type": "markdown",
   "metadata": {},
   "source": [
    "### Now you want to compare the sales of different vehicle types during a recession and a non-recession period\n",
    "<br>We recommend that you use the functionality of **Seaborn Library** to create this visualization\n"
   ]
  },
  {
   "cell_type": "markdown",
   "metadata": {},
   "source": [
    "<details><summary>Click here for a hint</summary>\n",
    "\n",
    "<p>\n",
    "     To visualize sales of different vehicles during recession and non-recession periods, you can use a bar chart\n",
    "        <br> You will need to group Recession, Vehicle_Type for average Automobile_Sales and then plot it<br>\n",
    "    Make use of sns.barplot(x=x,y=y, data = df)</p>\n",
    "</details>\n"
   ]
  },
  {
   "cell_type": "code",
   "execution_count": null,
   "metadata": {},
   "outputs": [],
   "source": [
    "\n"
   ]
  },
  {
   "cell_type": "markdown",
   "metadata": {},
   "source": [
    "<details>\n",
    "<summary>Click here for Solution template</summary>\n",
    "\n",
    "```python\n",
    "   # Filter the data for recessionary periods\n",
    "    recession_data = df[df['Recession'] == 1]\n",
    "\n",
    "    dd=df.groupby(['Recession','Vehicle_Type'])['Automobile_Sales'].mean().reset_index()\n",
    "\n",
    "    # Calculate the total sales volume by vehicle type during recessions\n",
    "    #sales_by_vehicle_type = recession_data.groupby('Vehicle_Type')['Automobile_Sales'].sum().reset_index()\n",
    "\n",
    "    # Create the grouped bar chart using seaborn\n",
    "    plt.figure(figsize=(10, 6))\n",
    "    sns.barplot(x='......', y='........', hue='Vehicle_Type', data=dd)\n",
    "    plt.xticks(ticks=[0, 1], labels=['Non-Recession', 'Recession'])\n",
    "    plt.xlabel('.............')\n",
    "    plt.ylabel('..............')\n",
    "    plt.title('Vehicle-Wise Sales during Recession and Non-Recession Period')\n",
    "\n",
    "    plt.show()\n",
    "\n",
    "```\n",
    "</details>\n"
   ]
  },
  {
   "cell_type": "markdown",
   "metadata": {},
   "source": [
    "### From the above chart what insights have you gained on the overall sales of automobiles during recession? <br> Type your answer below:-\n"
   ]
  },
  {
   "cell_type": "markdown",
   "metadata": {},
   "source": []
  },
  {
   "cell_type": "markdown",
   "metadata": {},
   "source": [
    "<details>\n",
    "<summary>Inference</summary>\n",
    "\n",
    "From this plot, we can understand that there is a drastic decline in the overall sales of the automobiles during recession.<br>However, the most affected type of vehicle is executivecar and sports<br><br>\n",
    "</details>\n"
   ]
  },
  {
   "cell_type": "markdown",
   "metadata": {},
   "source": [
    "<span style=\"color:red\">\n",
    "Save this plot as \"Bar_Chart.png\"</span><br>\n",
    "*Hint: You can right lick on the plot and then click on \"Save image as\" option to save it on your local machine*\n"
   ]
  },
  {
   "cell_type": "markdown",
   "metadata": {},
   "source": [
    "---\n"
   ]
  },
  {
   "cell_type": "markdown",
   "metadata": {},
   "source": [
    "### TASK 1.4: Use sub plotting to compare the variations in GDP during recession and non-recession period by developing line plots for each period.\n",
    "<br>Now, you want to find more insights from the data to understand the reason. <br>Plot a two line charts using subplotting to answer:-\n",
    "#### How did the GDP vary over time during recession and non-recession periods? \n",
    "<br>Make use of <u>add_subplot()</u> from Matplotlib for this comparision.\n"
   ]
  },
  {
   "cell_type": "code",
   "execution_count": null,
   "metadata": {},
   "outputs": [],
   "source": []
  },
  {
   "cell_type": "markdown",
   "metadata": {},
   "source": [
    "<details>\n",
    "<summary>Click here for Solution template</summary>\n",
    "\n",
    "```python\n",
    "    #Create dataframes for recession and non-recession period\n",
    "    rec_data = df[df['Recession'] == 1]\n",
    "    non_rec_data = df[df['Recession'] == 0]\n",
    "    \n",
    "    #Figure\n",
    "    fig=plt.figure(figsize=(12, 6))\n",
    "    \n",
    "    #Create different axes for subploting\n",
    "    ax0 = fig.add_subplot(1, 2, 1) # add subplot 1 (1 row, 2 columns, first plot)\n",
    "    ax1 = fig.add_subplot(... ,... ,... ) # add subplot 2 (1 row, 2 columns, second plot). \n",
    "    \n",
    "    #plt.subplot(1, 2, 1)\n",
    "    sns.lineplot(x='Year', y='GDP', data=rec_data, label='Recession', ax=ax0)\n",
    "    ax0.set_xlabel('Year')\n",
    "    ax0.set_ylabel('GDP')\n",
    "    ax0.set_title('GDP Variation during Recession Period')\n",
    "    \n",
    "    #plt.subplot(1, 2, 2)\n",
    "    sns.lineplot(x='......', y='......', data=........, label='.........',ax=...)\n",
    "    ax1.set_xlabel('.....')\n",
    "    ax1.set_ylabel('.......')\n",
    "    ax1.set_title('..........')\n",
    "    \n",
    "    plt.tight_layout()\n",
    "    plt.show()\n",
    "\n",
    "   #------------------------------------------------Alternatively--------------\n",
    "   #Using subplot()\n",
    "    plt.figure(figsize=(............, ..........))\n",
    "    \n",
    "    #subplot 1\n",
    "    plt.subplot(1, 2, 1)\n",
    "    sns.lineplot(x='.........', y='......', data=.........., label='......')\n",
    "    plt.xlabel('.......')\n",
    "    plt.ylabel('..........')\n",
    "    plt.legend()\n",
    "    #subplot 1\n",
    "    plt.subplot(1, 2, 2)\n",
    "    sns.lineplot(x='.........', y='......', data=.........., label='......')\n",
    "    plt.xlabel('.......')\n",
    "    plt.ylabel('..........')\n",
    "    plt.legend()\n",
    "    \n",
    "    plt.tight_layout()\n",
    "    plt.show()\n",
    "```\n",
    "</details>\n"
   ]
  },
  {
   "cell_type": "markdown",
   "metadata": {},
   "source": [
    "### Inference\n",
    "From this plot, it is evident that during recession, the GDP of the country was in a low range, might have afected the overall sales of the company<br><br>\n",
    "<span style=\"color:red\">\n",
    "Save this plot as \"Subplot.png\"</span><br>\n",
    "*Hint: You can right lick on the plot and then click on \"Save image as\" option to save it on your local machine*\n"
   ]
  },
  {
   "cell_type": "markdown",
   "metadata": {},
   "source": [
    "---\n"
   ]
  },
  {
   "cell_type": "markdown",
   "metadata": {},
   "source": [
    "### TASK 1.5: Develop a Bubble plot for displaying the impact of seasonality on Automobile Sales.\n",
    "<br>How has seasonality impacted the sales, in which months the sales were high or low? Check it for non-recession years to understand the trend\n",
    "\n",
    "##### Develop a Bubble plot for displaying Automobile Sales for every month and use Seasonality Weight for representing the size of each bubble<br>\n",
    "Title this plot as 'Seasonality impact on Automobile Sales'\n"
   ]
  },
  {
   "cell_type": "markdown",
   "metadata": {},
   "source": [
    "<details><summary>Click here for a hint</summary>\n",
    "\n",
    "<p>\n",
    "     You can create Bubble Chart by calling the scatter()\n",
    "        <br>Pass the 'Month' and 'Automobile_Sales' to the functions as x and y and then use Seasonality weight for size parameter</p>\n",
    "</details>\n"
   ]
  },
  {
   "cell_type": "code",
   "execution_count": null,
   "metadata": {},
   "outputs": [],
   "source": []
  },
  {
   "cell_type": "markdown",
   "metadata": {},
   "source": [
    "<details>\n",
    "<summary>Click here for Solution template</summary>\n",
    "\n",
    "```python\n",
    "    non_rec_data = df[df['Recession'] == 0]\n",
    "    \n",
    "    size=non_rec_data['Seasonality_Weight'] #for bubble effect\n",
    "    \n",
    "    sns.scatterplot(data=non_rec_data, x='........', y='........', size=size)\n",
    "    \n",
    "    #you can further include hue='Seasonality_Weight', legend=False)\n",
    "\n",
    "    plt.xlabel('Month')\n",
    "    plt.ylabel('Automobile_Sales')\n",
    "    plt.title('Seasonality impact on Automobile Sales')\n",
    "\n",
    "    plt.show()\n",
    "\n",
    "```\n",
    "</details>\n"
   ]
  },
  {
   "cell_type": "markdown",
   "metadata": {},
   "source": [
    "### Inference\n",
    "From this plot, it is evident that seasonality has not affected on the overall sales. However, there is a drastic raise in sales in the month of April<br><br>\n",
    "<span style=\"color:red\">\n",
    "Save this plot as \"Bubble.png\"</span><br>\n",
    "*Hint: You can right lick on the plot and then click on \"Save image as\" option to save it on your local machine*\n"
   ]
  },
  {
   "cell_type": "markdown",
   "metadata": {},
   "source": [
    "---\n"
   ]
  },
  {
   "cell_type": "markdown",
   "metadata": {},
   "source": [
    " ### TASK 1.6: Use the functionality of Matplotlib to develop a scatter plot to identify the correlation between average vehicle price relate to the sales volume during recessions.\n",
    " #### From the data, develop a scatter plot to identify if there a correlation between consumer confidence and automobile sales during recession period? \n",
    " <br> Title this plot as 'Consumer Confidence and Automobile Sales during Recessions'\n"
   ]
  },
  {
   "cell_type": "markdown",
   "metadata": {},
   "source": [
    "<details><summary>Click here for a hint</summary>\n",
    "\n",
    "<p>\n",
    "     You can create dataframe where recession is '1'.\n",
    "        <br>Pass the 'Consumer_Confidence' and 'Automobile_Sales' to the plt.scatter()</p>\n",
    "</details>\n"
   ]
  },
  {
   "cell_type": "code",
   "execution_count": null,
   "metadata": {},
   "outputs": [],
   "source": []
  },
  {
   "cell_type": "markdown",
   "metadata": {},
   "source": [
    "<details>\n",
    "<summary>Click here for Solution template</summary>\n",
    "\n",
    "```python\n",
    "    #Create dataframes for recession and non-recession period\n",
    "    rec_data = df[df['Recession'] == 1]\n",
    "    plt.scatter(rec_data['Consumer_Confidence'], rec_data['Automobile_Sales'])\n",
    "    \n",
    "    plt.xlabel('.....')\n",
    "    plt.ylabel('.......')\n",
    "    plt.title('..........')\n",
    "    plt.show()\n",
    "\n",
    "```\n",
    "</details>\n"
   ]
  },
  {
   "cell_type": "markdown",
   "metadata": {},
   "source": [
    "\n",
    " ### How does the average vehicle price relate to the sales volume during recessions?\n",
    " <br> Plot another scatter plot and title it as 'Relationship between Average Vehicle Price and Sales during Recessions'\n"
   ]
  },
  {
   "cell_type": "code",
   "execution_count": null,
   "metadata": {},
   "outputs": [],
   "source": []
  },
  {
   "cell_type": "markdown",
   "metadata": {},
   "source": [
    "<details>\n",
    "<summary>Click here for Solution template</summary>\n",
    "\n",
    "```python\n",
    "    #Create dataframes for recession and non-recession period\n",
    "    rec_data = df[df['Recession'] == 1]\n",
    "    plt.scatter(recession_data['Price'], rec_data['Automobile_Sales'])\n",
    "    \n",
    "    plt.xlabel('.....')\n",
    "    plt.ylabel('.......')\n",
    "    plt.title('..........')\n",
    "    plt.show()\n",
    "\n",
    "```\n",
    "</details>\n"
   ]
  },
  {
   "cell_type": "markdown",
   "metadata": {},
   "source": [
    "### Inference\n",
    "There is not much relation!<br><br>\n",
    "<span style=\"color:red\">\n",
    "Save this plot as \"Scatter.png\"</span><br>\n",
    "*Hint: You can right lick on the plot and then click on \"Save image as\" option to save it on your local machine*\n"
   ]
  },
  {
   "cell_type": "markdown",
   "metadata": {},
   "source": [
    "----\n"
   ]
  },
  {
   "cell_type": "markdown",
   "metadata": {},
   "source": [
    " ### TASK 1.7: Create a pie chart to display the portion of advertising expenditure of XYZAutomotives during recession and non-recession periods.\n",
    " <br>How did the advertising expenditure of XYZAutomotives change during recession and non-recession periods? \n"
   ]
  },
  {
   "cell_type": "markdown",
   "metadata": {},
   "source": [
    "<details><summary>Click here for a hint</summary>\n",
    "\n",
    "<p>\n",
    "     You can create two dataframe for recession and nonreccession period.\n",
    "    <br> Calculate the sum of Advertising_Expenditure for both dataframes\n",
    "    <br> Pass these total values to plt.pie(). May include labels as ['Recession', 'Non-Recession']\n",
    "        <br>Feel Free to customie the pie further\n",
    "    <br>title this plot as  - Advertising Expenditure during Recession and Non-Recession Periods</p>\n",
    "</details>\n"
   ]
  },
  {
   "cell_type": "code",
   "execution_count": null,
   "metadata": {},
   "outputs": [],
   "source": []
  },
  {
   "cell_type": "markdown",
   "metadata": {},
   "source": [
    "<details>\n",
    "<summary>Click here for Solution template</summary>\n",
    "\n",
    "```python\n",
    "    # Filter the data \n",
    "    Rdata = df[df['Recession'] == 1]\n",
    "    NRdata = df[df['Recession'] == 0]\n",
    "\n",
    "    # Calculate the total advertising expenditure for both periods\n",
    "    RAtotal = Rdata['...........'].sum()\n",
    "    NRAtotal = NRdata['...........'].sum()\n",
    "\n",
    "    # Create a pie chart for the advertising expenditure \n",
    "    plt.figure(figsize=(8, 6))\n",
    "\n",
    "    labels = ['Recession', 'Non-Recession']\n",
    "    sizes = [RAtotal, NRtotal]\n",
    "    plt.pie(sizes, labels=labels, autopct='%1.1f%%', startangle=90)\n",
    "\n",
    "    plt.title('...........................')\n",
    "\n",
    "    plt.show()\n",
    "\n",
    "\n",
    "```\n",
    "</details>\n"
   ]
  },
  {
   "cell_type": "markdown",
   "metadata": {},
   "source": [
    "#### From the above plot, what insights do you find on the advertisement expenditure during recession and non recession periods?<br> Type your answer below:-\n"
   ]
  },
  {
   "cell_type": "markdown",
   "metadata": {},
   "source": []
  },
  {
   "cell_type": "markdown",
   "metadata": {},
   "source": [
    "<details><summary>Inference</summary>\n",
    "It seems ABCAutomotives has been spending much more on the advertisements during non-recession periods as compared to during recession times. Fair enough!<br><br></details>\n"
   ]
  },
  {
   "cell_type": "markdown",
   "metadata": {},
   "source": [
    "<span style=\"color:red\">\n",
    "Save this plot as \"Pie_1.png\"</span><br>\n",
    "*Hint: You can right lick on the plot and then click on \"Save image as\" option to save it on your local machine*\n"
   ]
  },
  {
   "cell_type": "markdown",
   "metadata": {},
   "source": [
    "---\n"
   ]
  },
  {
   "cell_type": "markdown",
   "metadata": {},
   "source": [
    "### TASK 1.8: Develop a pie chart to display the total Advertisement expenditure for each vehicle type during recession period.<br>\n",
    "Can we observe the share of each vehicle type in total expenditure during recessions? \n"
   ]
  },
  {
   "cell_type": "markdown",
   "metadata": {},
   "source": [
    "<details><summary>Click here for a hint</summary>\n",
    "\n",
    "<p>\n",
    "     You will be required to group vehicle type for sum of advertisement expenditure.\n",
    "    <br> the plot a pie with the data, May include relevant labels\n",
    "    <br>title this plot as  - Share of Each Vehicle Type in Total Expenditure during Recessions</p>\n",
    "</details>\n"
   ]
  },
  {
   "cell_type": "code",
   "execution_count": null,
   "metadata": {},
   "outputs": [],
   "source": []
  },
  {
   "cell_type": "markdown",
   "metadata": {},
   "source": [
    "<details>\n",
    "    <summary>Click here for Solution template</summary>\n",
    "\n",
    "```python\n",
    "    # Filter the data \n",
    "    Rdata = df[df['Recession'] == 1]\n",
    "\n",
    "    # Calculate the sales volume by vehicle type during recessions\n",
    "    VTexpenditure = Rdata.groupby('..........')['.............'].sum()\n",
    "\n",
    "    # Create a pie chart for the share of each vehicle type in total expenditure during recessions\n",
    "    plt.figure(figsize=(..., ...))\n",
    "\n",
    "    labels = VTexpenditure.index\n",
    "    sizes = VTexpenditure.values\n",
    "    plt.pie(sizes, labels=labels, autopct='%1.1f%%', startangle=90)\n",
    "\n",
    "    plt.title('....................')\n",
    "\n",
    "    plt.show()\n",
    "```\n",
    "    </details>\n"
   ]
  },
  {
   "cell_type": "markdown",
   "metadata": {},
   "source": [
    "### Inference\n",
    "During recession the advertisements were mostly focued on low price range vehicle. A wise decision!<br><br>\n",
    "<span style=\"color:red\">\n",
    "Save this plot as \"Pie_2.png\"</span><br>\n",
    "*Hint: You can right lick on the plot and then click on \"Save image as\" option to save it on your local machine*\n"
   ]
  },
  {
   "cell_type": "markdown",
   "metadata": {},
   "source": [
    "----\n"
   ]
  },
  {
   "cell_type": "markdown",
   "metadata": {},
   "source": [
    " ### TASK 1.9: Develop a lineplot to analyse the effect of the unemployment rate on vehicle type and sales during the Recession Period.\n",
    " <br>Analyze the effect of the unemployment rate on vehicle type and sales during the Recession Period\n",
    " #### You can create a lineplot and title the plot as 'Effect of Unemployment Rate on Vehicle Type and Sales'\n"
   ]
  },
  {
   "cell_type": "markdown",
   "metadata": {},
   "source": [
    "<details><summary>Click here for a hint</summary>\n",
    "\n",
    "<p>\n",
    "    Filter out the data for recession period<br>\n",
    "     Make use of lineplot() from seaborn and pass the relavent data</p>\n",
    "</details>\n"
   ]
  },
  {
   "cell_type": "code",
   "execution_count": null,
   "metadata": {},
   "outputs": [],
   "source": []
  },
  {
   "cell_type": "markdown",
   "metadata": {},
   "source": [
    "<details>\n",
    "    <summary>Click here for Solution template</summary>\n",
    "\n",
    "```python\n",
    "df_rec = df[df['Recession']==1]\n",
    "sns.lineplot(data=df_rec, x='..........', y='.........',\n",
    "             hue='Vehicle_Type', style='Vehicle_Type', markers='o', err_style=None)\n",
    "plt.ylim(0,850)\n",
    "plt.legend(loc=(0.05,.3))\n",
    "```\n",
    "\n",
    "</details>\n"
   ]
  },
  {
   "cell_type": "markdown",
   "metadata": {},
   "source": [
    "#### From the above plot, what insights have you gained on the sales of superminicar, smallfamilycar, mediumminicar?<br> Type your answer below:-\n"
   ]
  },
  {
   "cell_type": "markdown",
   "metadata": {},
   "source": []
  },
  {
   "cell_type": "markdown",
   "metadata": {},
   "source": [
    "<details><summary>Inference</summary>\n",
    "During recession, buying pattern changed, the sales of low range vehicle like superminicar,smallfamilycar and Mediumminicar<br><br>\n",
    "</details>\n"
   ]
  },
  {
   "cell_type": "markdown",
   "metadata": {},
   "source": [
    "<span style=\"color:red\">\n",
    "Save this plot as \"line_plot_3.png\"</span><br>\n",
    "*Hint: You can right lick on the plot and then click on \"Save image as\" option to save it on your local machine*\n"
   ]
  },
  {
   "cell_type": "markdown",
   "metadata": {},
   "source": [
    "---\n"
   ]
  },
  {
   "cell_type": "markdown",
   "metadata": {},
   "source": [
    "### OPTIONAL : TASK 1.10 Create a map on the hightest sales region/offices of the company during recession period\n"
   ]
  },
  {
   "cell_type": "code",
   "execution_count": null,
   "metadata": {},
   "outputs": [],
   "source": [
    "from pyodide.http import pyfetch\n",
    "\n",
    "async def download(url, filename):\n",
    "    response = await pyfetch(url)\n",
    "    if response.status == 200:\n",
    "        with open(filename, \"wb\") as f:\n",
    "            f.write(await response.bytes())\n",
    "\n",
    "path = 'https://cf-courses-data.s3.us.cloud-object-storage.appdomain.cloud/IBMDeveloperSkillsNetwork-DV0101EN-SkillsNetwork/Data%20Files/us-states.json'\n",
    "await download(path, \"us-states.json\")\n",
    "\n",
    "filename = \"us-states.json\""
   ]
  },
  {
   "cell_type": "markdown",
   "metadata": {},
   "source": [
    "#### You found that the datset also contains the location/city for company offices. Now you want to show the recession impact on various offices/city sales by developing a choropleth\n"
   ]
  },
  {
   "cell_type": "code",
   "execution_count": null,
   "metadata": {},
   "outputs": [],
   "source": []
  },
  {
   "cell_type": "markdown",
   "metadata": {},
   "source": [
    "<details><summary>Click for Solution</summary>\n",
    "    \n",
    "```python\n",
    "\n",
    "    # Filter the data for the recession period and specific cities\n",
    "    recession_data = data[data['Recession'] == 1]\n",
    "\n",
    "    # Calculate the total sales by city\n",
    "    sales_by_city = recession_data.groupby('City')['Automobile_Sales'].sum().reset_index()\n",
    "\n",
    "    # Create a base map centered on the United States\n",
    "    map1 = folium.Map(location=[37.0902, -95.7129], zoom_start=4)\n",
    "\n",
    "    # Create a choropleth layer using Folium\n",
    "    choropleth = folium.Choropleth(\n",
    "        geo_data= 'us-states.json',  # GeoJSON file with state boundaries\n",
    "        data=sales_by_city,\n",
    "        columns=['City', 'Automobile_Sales'],\n",
    "        key_on='feature.properties.name',\n",
    "        fill_color='YlOrRd',\n",
    "        fill_opacity=0.7,\n",
    "        line_opacity=0.2,\n",
    "        legend_name='Automobile Sales during Recession'\n",
    "    ).add_to(map1)\n",
    "\n",
    "\n",
    "    # Add tooltips to the choropleth layer\n",
    "    choropleth.geojson.add_child(\n",
    "        folium.features.GeoJsonTooltip(['name'], labels=True)\n",
    "    )\n",
    "\n",
    "    # Display the map\n",
    "    map1\n",
    "\n",
    "```\n",
    "</details>\n"
   ]
  },
  {
   "cell_type": "markdown",
   "metadata": {},
   "source": [
    "# Congratulations! You have completed the lab\n"
   ]
  },
  {
   "cell_type": "markdown",
   "metadata": {},
   "source": [
    "## Authors\n"
   ]
  },
  {
   "cell_type": "markdown",
   "metadata": {},
   "source": [
    "[Dr. Pooja](author_link)\n"
   ]
  },
  {
   "cell_type": "markdown",
   "metadata": {},
   "source": [
    "``` toggle ## Change Log\n",
    "```\n"
   ]
  },
  {
   "cell_type": "markdown",
   "metadata": {},
   "source": [
    "<!---|Date (YYYY-MM-DD)|Version|Changed By|Change Description|\n",
    "|-|-|-|-|\n",
    "2024-01-05|0.2.1|Sowmyaa Gurusamy|Updated the lab instructions|\n",
    "|2023-06-17|0.2|Pooja|Initial Lab Creation|\n",
    "|2023-05-01|0.1|Shengkai|Create Lab Template|-->\n"
   ]
  },
  {
   "cell_type": "markdown",
   "metadata": {},
   "source": [
    "Copyright © 2023 IBM Corporation. All rights reserved.\n"
   ]
  }
 ],
 "metadata": {
  "kernelspec": {
   "display_name": "Python 3 (ipykernel)",
   "language": "python",
   "name": "python3"
  },
  "language_info": {
   "codemirror_mode": {
    "name": "ipython",
    "version": 3
   },
   "file_extension": ".py",
   "mimetype": "text/x-python",
   "name": "python",
   "nbconvert_exporter": "python",
   "pygments_lexer": "ipython3",
   "version": "3.13.5"
  },
  "prev_pub_hash": "e49b1aac4572712b180b248e70d893ea090e9b239d42f173ccab18514b49bed6"
 },
 "nbformat": 4,
 "nbformat_minor": 4
}
